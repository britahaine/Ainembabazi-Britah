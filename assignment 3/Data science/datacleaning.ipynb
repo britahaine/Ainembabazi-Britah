{
 "cells": [
  {
   "cell_type": "code",
   "execution_count": null,
   "id": "d81a3aa9",
   "metadata": {
    "vscode": {
     "languageId": "plaintext"
    }
   },
   "outputs": [],
   "source": [
    "import pandas"
   ]
  }
 ],
 "metadata": {
  "language_info": {
   "name": "python"
  }
 },
 "nbformat": 4,
 "nbformat_minor": 5
}
